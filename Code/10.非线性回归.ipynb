{
 "cells": [
  {
   "cell_type": "code",
   "execution_count": 2,
   "metadata": {
    "collapsed": true
   },
   "outputs": [
    {
     "name": "stderr",
     "output_type": "stream",
     "text": [
      "c:\\Software\\Anaconda\\envs\\ML\\lib\\site-packages\\tqdm\\auto.py:22: TqdmWarning: IProgress not found. Please update jupyter and ipywidgets. See https://ipywidgets.readthedocs.io/en/stable/user_install.html\n",
      "  from .autonotebook import tqdm as notebook_tqdm\n"
     ]
    }
   ],
   "source": [
    "import numpy as np\n",
    "import matplotlib.pyplot as plt\n",
    "from torch import nn,optim\n",
    "from torch.autograd import Variable\n",
    "import torch"
   ]
  },
  {
   "cell_type": "code",
   "execution_count": 3,
   "metadata": {
    "collapsed": false
   },
   "outputs": [
    {
     "data": {
      "image/png": "[encoded data removed]",
      "text/plain": [
       "<Figure size 432x288 with 1 Axes>"
      ]
     },
     "metadata": {
      "needs_background": "light"
     },
     "output_type": "display_data"
    }
   ],
   "source": [
    "x_data = np.linspace(-2,2,200)[:,np.newaxis]\n",
    "noise = np.random.normal(0,0.2,x_data.shape)\n",
    "y_data = np.square(x_data) + noise\n",
    "\n",
    "plt.scatter(x_data,y_data)\n",
    "plt.show()"
   ]
  },
  {
   "cell_type": "code",
   "execution_count": 5,
   "metadata": {},
   "outputs": [
    {
     "data": {
      "text/plain": [
       "(200, 1)"
      ]
     },
     "execution_count": 5,
     "metadata": {},
     "output_type": "execute_result"
    }
   ],
   "source": [
    "x_data.shape"
   ]
  },
  {
   "cell_type": "code",
   "execution_count": 6,
   "metadata": {
    "collapsed": true
   },
   "outputs": [],
   "source": [
    "x_data = x_data.reshape(-1,1)\n",
    "y_data = y_data.reshape(-1,1)"
   ]
  },
  {
   "cell_type": "code",
   "execution_count": 7,
   "metadata": {
    "collapsed": true
   },
   "outputs": [],
   "source": [
    "# 把numpy数据变成tensor\n",
    "x_data = torch.FloatTensor(x_data)\n",
    "y_data = torch.FloatTensor(y_data)\n",
    "inputs = Variable(x_data)\n",
    "target = Variable(y_data)"
   ]
  },
  {
   "cell_type": "code",
   "execution_count": 8,
   "metadata": {
    "collapsed": true
   },
   "outputs": [],
   "source": [
    "# 构建神经网络模型\n",
    "# 一般把网络中具有可学习参数的层放在__init__()中\n",
    "class LinearRegression(nn.Module):\n",
    "    # 定义网络结构\n",
    "    def __init__(self):\n",
    "        # 初始化nn.Module\n",
    "        super(LinearRegression, self).__init__()\n",
    "        # 1-10-1\n",
    "        self.fc1 = nn.Linear(1,10)\n",
    "        self.tanh = nn.Tanh()\n",
    "        self.fc2 = nn.Linear(10,1)\n",
    "\n",
    "    # 定义网络计算\n",
    "    def forward(self,x):\n",
    "        x = self.fc1(x)\n",
    "        x = self.tanh(x)\n",
    "        x = self.fc2(x)\n",
    "        return x"
   ]
  },
  {
   "cell_type": "code",
   "execution_count": 9,
   "metadata": {
    "collapsed": false
   },
   "outputs": [],
   "source": [
    "# 定义模型\n",
    "model = LinearRegression()\n",
    "# 定义代价函数\n",
    "mse_loss = nn.MSELoss()\n",
    "# 定义优化器\n",
    "optimizer = optim.SGD(model.parameters(), lr=0.3)"
   ]
  },
  {
   "cell_type": "code",
   "execution_count": 10,
   "metadata": {
    "collapsed": false
   },
   "outputs": [
    {
     "name": "stdout",
     "output_type": "stream",
     "text": [
      "name:fc1.weight, param:Parameter containing:\n",
      "tensor([[-0.4508],\n",
      "        [ 0.7730],\n",
      "        [ 0.9141],\n",
      "        [-0.7638],\n",
      "        [ 0.1328],\n",
      "        [-0.6304],\n",
      "        [ 0.1767],\n",
      "        [ 0.8028],\n",
      "        [-0.6139],\n",
      "        [ 0.1204]], requires_grad=True)\n",
      "name:fc1.bias, param:Parameter containing:\n",
      "tensor([-0.0413,  0.4557,  0.6054, -0.9042, -0.9487, -0.1660,  0.0354, -0.4368,\n",
      "         0.8578, -0.7781], requires_grad=True)\n",
      "name:fc2.weight, param:Parameter containing:\n",
      "tensor([[ 0.0796, -0.2641,  0.2893, -0.1772, -0.1050, -0.1271,  0.2989,  0.1547,\n",
      "          0.0151, -0.0709]], requires_grad=True)\n",
      "name:fc2.bias, param:Parameter containing:\n",
      "tensor([0.1807], requires_grad=True)\n"
     ]
    }
   ],
   "source": [
    "for name, parameters in model.named_parameters():\n",
    "    print('name:{}, param:{}'.format(name,parameters))"
   ]
  },
  {
   "cell_type": "code",
   "execution_count": 11,
   "metadata": {
    "collapsed": false
   },
   "outputs": [
    {
     "name": "stdout",
     "output_type": "stream",
     "text": [
      "0 2.5494401454925537\n",
      "200 0.11215122044086456\n",
      "400 0.05404513701796532\n",
      "600 0.07789041846990585\n",
      "800 0.06313139945268631\n",
      "1000 0.06404134631156921\n",
      "1200 0.06591252982616425\n",
      "1400 0.0656299814581871\n",
      "1600 0.06486207246780396\n",
      "1800 0.06412304192781448\n",
      "2000 0.06347236037254333\n"
     ]
    }
   ],
   "source": [
    "for i in range(2001):\n",
    "    out = model(inputs)\n",
    "    # 计算loss\n",
    "    loss = mse_loss(out, target)\n",
    "    # 梯度清0\n",
    "    optimizer.zero_grad()\n",
    "    # 计算梯度\n",
    "    loss.backward()\n",
    "    # 修改权值\n",
    "    optimizer.step()\n",
    "    if i%200 == 0:\n",
    "        print(i,loss.item())"
   ]
  },
  {
   "cell_type": "code",
   "execution_count": 12,
   "metadata": {
    "collapsed": false
   },
   "outputs": [
    {
     "data": {
      "image/png": "[encoded data removed]",
      "text/plain": [
       "<Figure size 432x288 with 1 Axes>"
      ]
     },
     "metadata": {
      "needs_background": "light"
     },
     "output_type": "display_data"
    }
   ],
   "source": [
    "y_pred = model(inputs)\n",
    "plt.scatter(x_data,y_data)\n",
    "plt.plot(x_data,y_pred.data.numpy(),'r-',lw=3)\n",
    "plt.show()"
   ]
  },
  {
   "cell_type": "code",
   "execution_count": null,
   "metadata": {
    "collapsed": true
   },
   "outputs": [],
   "source": []
  }
 ],
 "metadata": {
  "anaconda-cloud": {},
  "kernelspec": {
   "display_name": "ML",
   "language": "python",
   "name": "python3"
  },
  "language_info": {
   "codemirror_mode": {
    "name": "ipython",
    "version": 3
   },
   "file_extension": ".py",
   "mimetype": "text/x-python",
   "name": "python",
   "nbconvert_exporter": "python",
   "pygments_lexer": "ipython3",
   "version": "3.8.5"
  },
  "vscode": {
   "interpreter": {
    "hash": "0e0830ad22fc181bfec2c648f847f15ce66635f18c4b4c3c11911f05663aa1af"
   }
  }
 },
 "nbformat": 4,
 "nbformat_minor": 1
}
