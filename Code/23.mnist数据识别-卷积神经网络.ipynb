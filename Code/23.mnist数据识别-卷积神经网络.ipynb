{
 "cells": [
  {
   "cell_type": "code",
   "execution_count": 2,
   "metadata": {
    "collapsed": false
   },
   "outputs": [],
   "source": [
    "import torch\n",
    "import torch.nn as nn\n",
    "import torch.optim as optim\n",
    "from torchvision import datasets, transforms\n",
    "from torch.utils.data import DataLoader"
   ]
  },
  {
   "cell_type": "code",
   "execution_count": 2,
   "metadata": {
    "collapsed": true
   },
   "outputs": [],
   "source": [
    "# 下载训练集\n",
    "train_dataset = datasets.MNIST(root='./',\n",
    "                train=True,\n",
    "                transform=transforms.ToTensor(),\n",
    "                download=True)\n",
    "# 下载测试集\n",
    "test_dataset = datasets.MNIST(root='./',\n",
    "               train=False,\n",
    "               transform=transforms.ToTensor(),\n",
    "               download=True)"
   ]
  },
  {
   "cell_type": "code",
   "execution_count": 3,
   "metadata": {
    "collapsed": true
   },
   "outputs": [],
   "source": [
    "# 批次大小\n",
    "batch_size = 64\n",
    "\n",
    "# 装载训练集\n",
    "train_loader = DataLoader(dataset=train_dataset,\n",
    "                      batch_size=batch_size,\n",
    "                      shuffle=True)\n",
    "# 装载测试集\n",
    "test_loader = DataLoader(dataset=test_dataset,\n",
    "                     batch_size=batch_size,\n",
    "                     shuffle=True)"
   ]
  },
  {
   "cell_type": "code",
   "execution_count": 4,
   "metadata": {
    "collapsed": false
   },
   "outputs": [
    {
     "name": "stdout",
     "output_type": "stream",
     "text": [
      "torch.Size([64, 1, 28, 28])\n",
      "torch.Size([64])\n"
     ]
    }
   ],
   "source": [
    "for i, data in enumerate(train_loader):\n",
    "    # 获得数据和对应的标签\n",
    "    inputs, labels = data\n",
    "    print(inputs.shape)\n",
    "    print(labels.shape)\n",
    "    break"
   ]
  },
  {
   "cell_type": "code",
   "execution_count": 5,
   "metadata": {
    "collapsed": true
   },
   "outputs": [],
   "source": [
    "# 定义网络结构\n",
    "class Net(nn.Module):\n",
    "    def __init__(self):\n",
    "        super(Net, self).__init__()\n",
    "        self.conv1 = nn.Sequential(nn.Conv2d(1, 32, 5, 1, 2), nn.ReLU(), nn.MaxPool2d(2, 2))\n",
    "        self.conv2 = nn.Sequential(nn.Conv2d(32, 64, 5, 1, 2), nn.ReLU(), nn.MaxPool2d(2, 2))\n",
    "        self.fc1 = nn.Sequential(nn.Linear(64 * 7 * 7, 1000), nn.Dropout(p=0.4), nn.ReLU())\n",
    "        self.fc2 = nn.Sequential(nn.Linear(1000, 10), nn.Softmax(dim=1))\n",
    "\n",
    "    def forward(self, x):\n",
    "        # ([64, 1, 28, 28])\n",
    "        x = self.conv1(x)\n",
    "        x = self.conv2(x)\n",
    "        x = x.view(x.size()[0], -1)\n",
    "        x = self.fc1(x)\n",
    "        x = self.fc2(x)\n",
    "        return x"
   ]
  },
  {
   "cell_type": "code",
   "execution_count": 7,
   "metadata": {
    "collapsed": true
   },
   "outputs": [],
   "source": [
    "LR = 0.0003\n",
    "# 定义模型\n",
    "model = Net()\n",
    "# 定义代价函数\n",
    "entropy_loss = nn.CrossEntropyLoss()\n",
    "# 定义优化器\n",
    "optimizer = optim.Adam(model.parameters(), LR)"
   ]
  },
  {
   "cell_type": "code",
   "execution_count": 8,
   "metadata": {
    "collapsed": true
   },
   "outputs": [],
   "source": [
    "def train():\n",
    "    model.train()\n",
    "    for i, data in enumerate(train_loader):\n",
    "        # 获得数据和对应的标签\n",
    "        inputs, labels = data\n",
    "        # 获得模型预测结果，（64，10）\n",
    "        out = model(inputs)\n",
    "        # 交叉熵代价函数out(batch,C),labels(batch)\n",
    "        loss = entropy_loss(out, labels)\n",
    "        # 梯度清0\n",
    "        optimizer.zero_grad()\n",
    "        # 计算梯度\n",
    "        loss.backward()\n",
    "        # 修改权值\n",
    "        optimizer.step()\n",
    "\n",
    "\n",
    "def test():\n",
    "    model.eval()\n",
    "    correct = 0\n",
    "    for i, data in enumerate(test_loader):\n",
    "        # 获得数据和对应的标签\n",
    "        inputs, labels = data\n",
    "        # 获得模型预测结果\n",
    "        out = model(inputs)\n",
    "        # 获得最大值，以及最大值所在的位置\n",
    "        _, predicted = torch.max(out, 1)\n",
    "        # 预测正确的数量\n",
    "        correct += (predicted == labels).sum()\n",
    "    print(\"Test acc: {0}\".format(correct.item() / len(test_dataset)))\n",
    "\n",
    "    correct = 0\n",
    "    for i, data in enumerate(train_loader):\n",
    "        # 获得数据和对应的标签\n",
    "        inputs, labels = data\n",
    "        # 获得模型预测结果\n",
    "        out = model(inputs)\n",
    "        # 获得最大值，以及最大值所在的位置\n",
    "        _, predicted = torch.max(out, 1)\n",
    "        # 预测正确的数量\n",
    "        correct += (predicted == labels).sum()\n",
    "    print(\"Train acc: {0}\".format(correct.item() / len(train_dataset)))"
   ]
  },
  {
   "cell_type": "code",
   "execution_count": 9,
   "metadata": {
    "collapsed": false
   },
   "outputs": [
    {
     "name": "stdout",
     "output_type": "stream",
     "text": [
      "epoch: 0\n",
      "Test acc: 0.9758\n",
      "Train acc: 0.97195\n",
      "epoch: 1\n",
      "Test acc: 0.9853\n",
      "Train acc: 0.9837666666666667\n",
      "epoch: 2\n",
      "Test acc: 0.9861\n",
      "Train acc: 0.9883666666666666\n",
      "epoch: 3\n",
      "Test acc: 0.9879\n",
      "Train acc: 0.9877\n",
      "epoch: 4\n",
      "Test acc: 0.9888\n",
      "Train acc: 0.98905\n",
      "epoch: 5\n",
      "Test acc: 0.9901\n",
      "Train acc: 0.9929833333333333\n",
      "epoch: 6\n",
      "Test acc: 0.9909\n",
      "Train acc: 0.9938\n",
      "epoch: 7\n",
      "Test acc: 0.9895\n",
      "Train acc: 0.99365\n",
      "epoch: 8\n",
      "Test acc: 0.9926\n",
      "Train acc: 0.9948833333333333\n",
      "epoch: 9\n",
      "Test acc: 0.9908\n",
      "Train acc: 0.9952166666666666\n",
      "epoch: 10\n",
      "Test acc: 0.9932\n",
      "Train acc: 0.9955\n",
      "epoch: 11\n",
      "Test acc: 0.9926\n",
      "Train acc: 0.9957\n",
      "epoch: 12\n",
      "Test acc: 0.9906\n",
      "Train acc: 0.9958\n",
      "epoch: 13\n",
      "Test acc: 0.9913\n",
      "Train acc: 0.9952166666666666\n",
      "epoch: 14\n",
      "Test acc: 0.9919\n",
      "Train acc: 0.9963\n",
      "epoch: 15\n",
      "Test acc: 0.9931\n",
      "Train acc: 0.9964\n",
      "epoch: 16\n",
      "Test acc: 0.9916\n",
      "Train acc: 0.9966666666666667\n",
      "epoch: 17\n",
      "Test acc: 0.9913\n",
      "Train acc: 0.9951166666666666\n",
      "epoch: 18\n",
      "Test acc: 0.9935\n",
      "Train acc: 0.9973166666666666\n",
      "epoch: 19\n",
      "Test acc: 0.9922\n",
      "Train acc: 0.9971833333333333\n"
     ]
    }
   ],
   "source": [
    "for epoch in range(0, 20):\n",
    "    print('epoch:',epoch)\n",
    "    train()\n",
    "    test()"
   ]
  },
  {
   "cell_type": "code",
   "execution_count": null,
   "metadata": {
    "collapsed": true
   },
   "outputs": [],
   "source": []
  }
 ],
 "metadata": {
  "anaconda-cloud": {},
  "kernelspec": {
   "display_name": "ML",
   "language": "python",
   "name": "python3"
  },
  "language_info": {
   "codemirror_mode": {
    "name": "ipython",
    "version": 3
   },
   "file_extension": ".py",
   "mimetype": "text/x-python",
   "name": "python",
   "nbconvert_exporter": "python",
   "pygments_lexer": "ipython3",
   "version": "3.8.5"
  },
  "vscode": {
   "interpreter": {
    "hash": "0e0830ad22fc181bfec2c648f847f15ce66635f18c4b4c3c11911f05663aa1af"
   }
  }
 },
 "nbformat": 4,
 "nbformat_minor": 2
}
