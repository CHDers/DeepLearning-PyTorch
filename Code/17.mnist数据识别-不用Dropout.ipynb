{
 "cells": [
  {
   "cell_type": "code",
   "execution_count": 2,
   "metadata": {
    "collapsed": true
   },
   "outputs": [],
   "source": [
    "import numpy as np\n",
    "from torch import nn,optim\n",
    "from torch.autograd import Variable\n",
    "from torchvision import datasets, transforms\n",
    "from torch.utils.data import DataLoader\n",
    "import torch"
   ]
  },
  {
   "cell_type": "code",
   "execution_count": 10,
   "metadata": {
    "collapsed": true
   },
   "outputs": [],
   "source": [
    "# 训练集\n",
    "train_dataset = datasets.MNIST(root='./',\n",
    "                               train=True,\n",
    "                              transform=transforms.ToTensor(),\n",
    "                              download=True)\n",
    "# 测试集\n",
    "test_dataset = datasets.MNIST(root='./',\n",
    "                              train=False,\n",
    "                              transform=transforms.ToTensor(),\n",
    "                              download=True)"
   ]
  },
  {
   "cell_type": "code",
   "execution_count": 11,
   "metadata": {
    "collapsed": true
   },
   "outputs": [],
   "source": [
    "# 批次大小\n",
    "batch_size = 64\n",
    "\n",
    "# 装载训练集\n",
    "train_loader = DataLoader(dataset=train_dataset,\n",
    "                         batch_size=batch_size,\n",
    "                         shuffle=True)\n",
    "\n",
    "# 装载训练集\n",
    "test_loader = DataLoader(dataset=test_dataset,\n",
    "                         batch_size=batch_size,\n",
    "                         shuffle=True)"
   ]
  },
  {
   "cell_type": "code",
   "execution_count": 12,
   "metadata": {
    "collapsed": false
   },
   "outputs": [
    {
     "name": "stdout",
     "output_type": "stream",
     "text": [
      "torch.Size([64, 1, 28, 28])\n",
      "torch.Size([64])\n"
     ]
    }
   ],
   "source": [
    "for i,data in enumerate(train_loader):\n",
    "    inputs,labels = data\n",
    "    print(inputs.shape)\n",
    "    print(labels.shape)\n",
    "    break"
   ]
  },
  {
   "cell_type": "code",
   "execution_count": 13,
   "metadata": {
    "collapsed": true
   },
   "outputs": [],
   "source": [
    "# 定义网络结构\n",
    "class Net(nn.Module):\n",
    "    def __init__(self):\n",
    "        super(Net, self).__init__()\n",
    "        self.layer1 = nn.Sequential(nn.Linear(784,500), nn.Dropout(p=0), nn.Tanh())\n",
    "        self.layer2 = nn.Sequential(nn.Linear(500,300), nn.Dropout(p=0), nn.Tanh())\n",
    "        self.layer3 = nn.Sequential(nn.Linear(300,10), nn.Softmax(dim=1))\n",
    "\n",
    "    def forward(self,x):\n",
    "        # ([64, 1, 28, 28])->(64,784)\n",
    "        x = x.view(x.size()[0], -1)\n",
    "        x = self.layer1(x)\n",
    "        x = self.layer2(x)\n",
    "        x = self.layer3(x)\n",
    "        return x"
   ]
  },
  {
   "cell_type": "code",
   "execution_count": 14,
   "metadata": {
    "collapsed": true
   },
   "outputs": [],
   "source": [
    "LR = 0.5\n",
    "# 定义模型\n",
    "model = Net()\n",
    "# 定义代价函数\n",
    "mse_loss = nn.CrossEntropyLoss()\n",
    "# 定义优化器\n",
    "optimizer = optim.SGD(model.parameters(), LR)"
   ]
  },
  {
   "cell_type": "code",
   "execution_count": 15,
   "metadata": {
    "collapsed": true
   },
   "outputs": [],
   "source": [
    "def train():\n",
    "    # 训练状态\n",
    "    model.train()\n",
    "    for i,data in enumerate(train_loader):\n",
    "        # 获得一个批次的数据和标签\n",
    "        inputs, labels = data\n",
    "        # 获得模型预测结果（64,10）\n",
    "        out = model(inputs)\n",
    "        # 交叉熵代价函数out(batch,C), labels(batch)\n",
    "        loss = mse_loss(out, labels)\n",
    "        # 梯度清0\n",
    "        optimizer.zero_grad()\n",
    "        # 计算梯度\n",
    "        loss.backward()\n",
    "        # 修改权值\n",
    "        optimizer.step()\n",
    "\n",
    "def test():\n",
    "    # 测试状态\n",
    "    model.eval()\n",
    "    correct = 0\n",
    "    for i,data in enumerate(test_loader):\n",
    "        # 获得一个批次的数据和标签\n",
    "        inputs, labels = data\n",
    "        # 获得模型预测结果（64,10）\n",
    "        out = model(inputs)\n",
    "        # 获得最大值，以及最大值所在的位置\n",
    "        _, predicted = torch.max(out, 1)\n",
    "        # 预测正确的数量\n",
    "        correct += (predicted == labels).sum()\n",
    "    print(\"Test acc:{0}\".format(correct.item()/len(test_dataset)))\n",
    "\n",
    "    correct = 0\n",
    "    for i,data in enumerate(train_loader):\n",
    "        # 获得一个批次的数据和标签\n",
    "        inputs, labels = data\n",
    "        # 获得模型预测结果（64,10）\n",
    "        out = model(inputs)\n",
    "        # 获得最大值，以及最大值所在的位置\n",
    "        _, predicted = torch.max(out, 1)\n",
    "        # 预测正确的数量\n",
    "        correct += (predicted == labels).sum()\n",
    "    print(\"Train acc:{0}\".format(correct.item()/len(train_dataset)))"
   ]
  },
  {
   "cell_type": "code",
   "execution_count": 16,
   "metadata": {
    "collapsed": false
   },
   "outputs": [
    {
     "name": "stdout",
     "output_type": "stream",
     "text": [
      "epoch: 0\n",
      "Test acc: 0.9175\n",
      "Train acc: 0.9159833333333334\n",
      "epoch: 1\n",
      "Test acc: 0.9247\n",
      "Train acc: 0.9269166666666667\n",
      "epoch: 2\n",
      "Test acc: 0.9396\n",
      "Train acc: 0.9435666666666667\n",
      "epoch: 3\n",
      "Test acc: 0.9423\n",
      "Train acc: 0.9485\n",
      "epoch: 4\n",
      "Test acc: 0.9558\n",
      "Train acc: 0.9595833333333333\n",
      "epoch: 5\n",
      "Test acc: 0.958\n",
      "Train acc: 0.9641833333333333\n",
      "epoch: 6\n",
      "Test acc: 0.9596\n",
      "Train acc: 0.9664\n",
      "epoch: 7\n",
      "Test acc: 0.9623\n",
      "Train acc: 0.9704666666666667\n",
      "epoch: 8\n",
      "Test acc: 0.9644\n",
      "Train acc: 0.9727333333333333\n",
      "epoch: 9\n",
      "Test acc: 0.9652\n",
      "Train acc: 0.9754\n",
      "epoch: 10\n",
      "Test acc: 0.9677\n",
      "Train acc: 0.9776166666666667\n",
      "epoch: 11\n",
      "Test acc: 0.9654\n",
      "Train acc: 0.9786\n",
      "epoch: 12\n",
      "Test acc: 0.9717\n",
      "Train acc: 0.9809833333333333\n",
      "epoch: 13\n",
      "Test acc: 0.9705\n",
      "Train acc: 0.9822166666666666\n",
      "epoch: 14\n",
      "Test acc: 0.9717\n",
      "Train acc: 0.9834166666666667\n",
      "epoch: 15\n",
      "Test acc: 0.9721\n",
      "Train acc: 0.98465\n",
      "epoch: 16\n",
      "Test acc: 0.9738\n",
      "Train acc: 0.9863\n",
      "epoch: 17\n",
      "Test acc: 0.9734\n",
      "Train acc: 0.9866833333333334\n",
      "epoch: 18\n",
      "Test acc: 0.9733\n",
      "Train acc: 0.9865666666666667\n",
      "epoch: 19\n",
      "Test acc: 0.9715\n",
      "Train acc: 0.9863666666666666\n"
     ]
    }
   ],
   "source": [
    "for epoch in range(20):\n",
    "    print('epoch:',epoch)\n",
    "    train()\n",
    "    test()"
   ]
  },
  {
   "cell_type": "code",
   "execution_count": null,
   "metadata": {
    "collapsed": true
   },
   "outputs": [],
   "source": []
  }
 ],
 "metadata": {
  "anaconda-cloud": {},
  "kernelspec": {
   "display_name": "ML",
   "language": "python",
   "name": "python3"
  },
  "language_info": {
   "codemirror_mode": {
    "name": "ipython",
    "version": 3
   },
   "file_extension": ".py",
   "mimetype": "text/x-python",
   "name": "python",
   "nbconvert_exporter": "python",
   "pygments_lexer": "ipython3",
   "version": "3.8.5"
  },
  "vscode": {
   "interpreter": {
    "hash": "0e0830ad22fc181bfec2c648f847f15ce66635f18c4b4c3c11911f05663aa1af"
   }
  }
 },
 "nbformat": 4,
 "nbformat_minor": 2
}
