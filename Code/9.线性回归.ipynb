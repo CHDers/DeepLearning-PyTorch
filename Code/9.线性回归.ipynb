{
 "cells": [
  {
   "cell_type": "code",
   "execution_count": 2,
   "metadata": {
    "collapsed": true
   },
   "outputs": [],
   "source": [
    "import numpy as np\n",
    "import matplotlib.pyplot as plt\n",
    "from torch import nn,optim\n",
    "from torch.autograd import Variable\n",
    "import torch"
   ]
  },
  {
   "cell_type": "code",
   "execution_count": 3,
   "metadata": {
    "collapsed": false
   },
   "outputs": [
    {
     "data": {
      "image/png": "[encoded data removed]",
      "text/plain": [
       "<Figure size 432x288 with 1 Axes>"
      ]
     },
     "metadata": {
      "needs_background": "light"
     },
     "output_type": "display_data"
    }
   ],
   "source": [
    "x_data = np.random.rand(100)\n",
    "noise = np.random.normal(0,0.01,x_data.shape)\n",
    "y_data = x_data*0.1 + 0.2 + noise\n",
    "\n",
    "plt.scatter(x_data,y_data)\n",
    "plt.show()"
   ]
  },
  {
   "cell_type": "code",
   "execution_count": 4,
   "metadata": {
    "collapsed": true
   },
   "outputs": [],
   "source": [
    "x_data = x_data.reshape(-1,1)\n",
    "y_data = y_data.reshape(-1,1)"
   ]
  },
  {
   "cell_type": "code",
   "execution_count": 7,
   "metadata": {},
   "outputs": [
    {
     "data": {
      "text/plain": [
       "((100, 1), (100, 1))"
      ]
     },
     "execution_count": 7,
     "metadata": {},
     "output_type": "execute_result"
    }
   ],
   "source": [
    "x_data.shape, y_data.shape"
   ]
  },
  {
   "cell_type": "code",
   "execution_count": 8,
   "metadata": {
    "collapsed": true
   },
   "outputs": [],
   "source": [
    "# 把numpy数据变成tensor\n",
    "x_data = torch.FloatTensor(x_data)\n",
    "y_data = torch.FloatTensor(y_data)\n",
    "inputs = Variable(x_data)\n",
    "target = Variable(y_data)"
   ]
  },
  {
   "cell_type": "code",
   "execution_count": 10,
   "metadata": {},
   "outputs": [
    {
     "data": {
      "text/plain": [
       "torch.Size([100, 1])"
      ]
     },
     "execution_count": 10,
     "metadata": {},
     "output_type": "execute_result"
    }
   ],
   "source": [
    "target.shape"
   ]
  },
  {
   "cell_type": "code",
   "execution_count": 11,
   "metadata": {
    "collapsed": true
   },
   "outputs": [],
   "source": [
    "# 构建神经网络模型\n",
    "# 一般把网络中具有可学习参数的层放在__init__()中\n",
    "class LinearRegression(nn.Module):\n",
    "    # 定义网络结构\n",
    "    def __init__(self):\n",
    "        # 初始化nn.Module\n",
    "        super(LinearRegression, self).__init__()\n",
    "        self.fc = nn.Linear(1,1)\n",
    "\n",
    "    # 定义网络计算\n",
    "    def forward(self,x):\n",
    "        out = self.fc(x)\n",
    "        return out"
   ]
  },
  {
   "cell_type": "code",
   "execution_count": 12,
   "metadata": {
    "collapsed": false
   },
   "outputs": [],
   "source": [
    "# 定义模型\n",
    "model = LinearRegression()\n",
    "# 定义代价函数\n",
    "mse_loss = nn.MSELoss()\n",
    "# 定义优化器\n",
    "optimizer = optim.SGD(model.parameters(), lr=0.1)"
   ]
  },
  {
   "cell_type": "code",
   "execution_count": 8,
   "metadata": {
    "collapsed": false
   },
   "outputs": [
    {
     "name": "stdout",
     "output_type": "stream",
     "text": [
      "name:fc.weight, param:Parameter containing:\n",
      "tensor([[-0.9757]], requires_grad=True)\n",
      "name:fc.bias, param:Parameter containing:\n",
      "tensor([-0.6168], requires_grad=True)\n"
     ]
    }
   ],
   "source": [
    "for name, parameters in model.named_parameters():\n",
    "    print('name:{}, param:{}'.format(name,parameters))"
   ]
  },
  {
   "cell_type": "code",
   "execution_count": 13,
   "metadata": {
    "collapsed": false
   },
   "outputs": [
    {
     "name": "stdout",
     "output_type": "stream",
     "text": [
      "0 2.652944564819336\n",
      "200 0.00016436559963040054\n",
      "400 0.00010576478962320834\n",
      "600 0.00010549357102718204\n",
      "800 0.00010549230501055717\n",
      "1000 0.00010549232683843002\n"
     ]
    }
   ],
   "source": [
    "for i in range(1001):\n",
    "    out = model(inputs)\n",
    "    # 计算loss\n",
    "    loss = mse_loss(out, target)\n",
    "    # 梯度清0\n",
    "    optimizer.zero_grad()\n",
    "    # 计算梯度\n",
    "    loss.backward()\n",
    "    # 修改权值\n",
    "    optimizer.step()\n",
    "    if i%200 == 0:\n",
    "        print(i,loss.item())"
   ]
  },
  {
   "cell_type": "code",
   "execution_count": 19,
   "metadata": {
    "collapsed": false
   },
   "outputs": [
    {
     "data": {
      "image/png": "[encoded data removed]",
      "text/plain": [
       "<Figure size 432x288 with 1 Axes>"
      ]
     },
     "metadata": {
      "needs_background": "light"
     },
     "output_type": "display_data"
    }
   ],
   "source": [
    "y_pred = model(inputs)\n",
    "plt.scatter(x_data,y_data)\n",
    "plt.plot(x_data,y_pred.data.numpy(),'r-',lw=3)\n",
    "plt.show()"
   ]
  },
  {
   "cell_type": "code",
   "execution_count": 17,
   "metadata": {
    "collapsed": true
   },
   "outputs": [
    {
     "data": {
      "text/plain": [
       "array([[0.21396899],\n",
       "       [0.29611272],\n",
       "       [0.20834234],\n",
       "       [0.28437757],\n",
       "       [0.20344436],\n",
       "       [0.27644637],\n",
       "       [0.29818067],\n",
       "       [0.21606621],\n",
       "       [0.27754962],\n",
       "       [0.21425913],\n",
       "       [0.22507559],\n",
       "       [0.25393265],\n",
       "       [0.2845769 ],\n",
       "       [0.2902829 ],\n",
       "       [0.22064331],\n",
       "       [0.24027827],\n",
       "       [0.264587  ],\n",
       "       [0.28833097],\n",
       "       [0.2202072 ],\n",
       "       [0.2420831 ],\n",
       "       [0.29740372],\n",
       "       [0.24149543],\n",
       "       [0.2553864 ],\n",
       "       [0.29891104],\n",
       "       [0.22723362],\n",
       "       [0.25543046],\n",
       "       [0.22963025],\n",
       "       [0.23009779],\n",
       "       [0.2305646 ],\n",
       "       [0.28554678],\n",
       "       [0.28959984],\n",
       "       [0.2880657 ],\n",
       "       [0.24814193],\n",
       "       [0.24274269],\n",
       "       [0.22986117],\n",
       "       [0.23593798],\n",
       "       [0.23721656],\n",
       "       [0.2149048 ],\n",
       "       [0.23593979],\n",
       "       [0.23977372],\n",
       "       [0.25476915],\n",
       "       [0.2127513 ],\n",
       "       [0.21544568],\n",
       "       [0.2467524 ],\n",
       "       [0.28874645],\n",
       "       [0.220963  ],\n",
       "       [0.29395074],\n",
       "       [0.27558196],\n",
       "       [0.2197023 ],\n",
       "       [0.26064134],\n",
       "       [0.2882011 ],\n",
       "       [0.25387752],\n",
       "       [0.23359364],\n",
       "       [0.25891486],\n",
       "       [0.23950522],\n",
       "       [0.2518311 ],\n",
       "       [0.26637214],\n",
       "       [0.2935835 ],\n",
       "       [0.29986092],\n",
       "       [0.2490878 ],\n",
       "       [0.20407161],\n",
       "       [0.23856702],\n",
       "       [0.28712142],\n",
       "       [0.26757613],\n",
       "       [0.25330055],\n",
       "       [0.20343548],\n",
       "       [0.27902386],\n",
       "       [0.2135486 ],\n",
       "       [0.2630647 ],\n",
       "       [0.21783979],\n",
       "       [0.20195736],\n",
       "       [0.26445127],\n",
       "       [0.25882465],\n",
       "       [0.23559892],\n",
       "       [0.2881377 ],\n",
       "       [0.22048889],\n",
       "       [0.25450927],\n",
       "       [0.2663034 ],\n",
       "       [0.22025849],\n",
       "       [0.27145934],\n",
       "       [0.21319528],\n",
       "       [0.2317298 ],\n",
       "       [0.27562964],\n",
       "       [0.2286902 ],\n",
       "       [0.27299628],\n",
       "       [0.25699446],\n",
       "       [0.2595107 ],\n",
       "       [0.20626366],\n",
       "       [0.23388754],\n",
       "       [0.26405588],\n",
       "       [0.27765644],\n",
       "       [0.26311564],\n",
       "       [0.29258034],\n",
       "       [0.29980502],\n",
       "       [0.22866713],\n",
       "       [0.22570115],\n",
       "       [0.21286908],\n",
       "       [0.2068924 ],\n",
       "       [0.23318416],\n",
       "       [0.27139974]], dtype=float32)"
      ]
     },
     "execution_count": 17,
     "metadata": {},
     "output_type": "execute_result"
    }
   ],
   "source": [
    "y_pred.data.numpy()"
   ]
  },
  {
   "cell_type": "code",
   "execution_count": null,
   "metadata": {},
   "outputs": [],
   "source": []
  }
 ],
 "metadata": {
  "kernelspec": {
   "display_name": "ML",
   "language": "python",
   "name": "python3"
  },
  "language_info": {
   "codemirror_mode": {
    "name": "ipython",
    "version": 3
   },
   "file_extension": ".py",
   "mimetype": "text/x-python",
   "name": "python",
   "nbconvert_exporter": "python",
   "pygments_lexer": "ipython3",
   "version": "3.8.5"
  },
  "vscode": {
   "interpreter": {
    "hash": "0e0830ad22fc181bfec2c648f847f15ce66635f18c4b4c3c11911f05663aa1af"
   }
  }
 },
 "nbformat": 4,
 "nbformat_minor": 1
}
